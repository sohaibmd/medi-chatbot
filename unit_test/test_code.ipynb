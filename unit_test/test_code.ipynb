{
 "cells": [
  {
   "cell_type": "code",
   "execution_count": 1,
   "metadata": {},
   "outputs": [
    {
     "name": "stdout",
     "output_type": "stream",
     "text": [
      "Current Directory: C:\\Users\\Welcome\\Desktop\\medi-chatbot-\n"
     ]
    }
   ],
   "source": [
    "import os\n",
    "\n",
    "# Use os.chdir() to change the directory\n",
    "os.chdir(r\"C:\\Users\\Welcome\\Desktop\\medi-chatbot-\")\n",
    "\n",
    "# Verify that the directory has been changed\n",
    "print(\"Current Directory:\", os.getcwd())\n"
   ]
  },
  {
   "cell_type": "code",
   "execution_count": 2,
   "metadata": {},
   "outputs": [
    {
     "data": {
      "text/plain": [
       "'C:\\\\Users\\\\Welcome\\\\Desktop\\\\medi-chatbot-'"
      ]
     },
     "execution_count": 2,
     "metadata": {},
     "output_type": "execute_result"
    }
   ],
   "source": [
    "%pwd"
   ]
  },
  {
   "cell_type": "code",
   "execution_count": 3,
   "metadata": {},
   "outputs": [],
   "source": [
    "from langchain.document_loaders import PyPDFLoader , DirectoryLoader\n",
    "from langchain.text_splitter import RecursiveCharacterTextSplitter\n"
   ]
  },
  {
   "cell_type": "code",
   "execution_count": 4,
   "metadata": {},
   "outputs": [],
   "source": [
    "#Extract Data from the PDF file\n",
    "def load_pdf_file(data):\n",
    "    loader = DirectoryLoader(data,\n",
    "                             glob = \"*.pdf\",\n",
    "                             loader_cls=PyPDFLoader)\n",
    "    \n",
    "    documents = loader.load()\n",
    "    return documents"
   ]
  },
  {
   "cell_type": "code",
   "execution_count": 5,
   "metadata": {},
   "outputs": [],
   "source": [
    "extracted_data = load_pdf_file(data = 'Data/')"
   ]
  },
  {
   "cell_type": "code",
   "execution_count": 6,
   "metadata": {},
   "outputs": [],
   "source": [
    "#extracted_data\n"
   ]
  },
  {
   "cell_type": "code",
   "execution_count": 6,
   "metadata": {},
   "outputs": [],
   "source": [
    "#chunking operation\n",
    "# split the data into text chunks\n",
    "def text_split(extracted_data):\n",
    "    text_splitter=RecursiveCharacterTextSplitter(chunk_size=500, chunk_overlap = 20) \n",
    "    text_chunks = text_splitter.split_documents(extracted_data)\n",
    "    return text_chunks"
   ]
  },
  {
   "cell_type": "code",
   "execution_count": 7,
   "metadata": {},
   "outputs": [
    {
     "name": "stdout",
     "output_type": "stream",
     "text": [
      "Length of text chunks 5860\n"
     ]
    }
   ],
   "source": [
    "text_chunks = text_split(extracted_data)\n",
    "print(\"Length of text chunks\", len(text_chunks))"
   ]
  },
  {
   "cell_type": "code",
   "execution_count": 8,
   "metadata": {},
   "outputs": [
    {
     "name": "stderr",
     "output_type": "stream",
     "text": [
      "C:\\Users\\Welcome\\AppData\\Local\\Temp\\ipykernel_15624\\3657163953.py:5: LangChainDeprecationWarning: The class `HuggingFaceEmbeddings` was deprecated in LangChain 0.2.2 and will be removed in 1.0. An updated version of the class exists in the :class:`~langchain-huggingface package and should be used instead. To use it run `pip install -U :class:`~langchain-huggingface` and import as `from :class:`~langchain_huggingface import HuggingFaceEmbeddings``.\n",
      "  embeddings = HuggingFaceEmbeddings(model_name='sentence-transformers/all-MiniLM-L6-v2')\n",
      "c:\\Users\\Welcome\\Desktop\\medi-chatbot-\\myenv\\lib\\site-packages\\tqdm\\auto.py:21: TqdmWarning: IProgress not found. Please update jupyter and ipywidgets. See https://ipywidgets.readthedocs.io/en/stable/user_install.html\n",
      "  from .autonotebook import tqdm as notebook_tqdm\n"
     ]
    }
   ],
   "source": [
    "#download the embeddings from the hugging face\n",
    "from langchain_community.embeddings import HuggingFaceEmbeddings\n",
    "\n",
    "def download_hugging_face_embeddings():\n",
    "    embeddings = HuggingFaceEmbeddings(model_name='sentence-transformers/all-MiniLM-L6-v2')\n",
    "    return embeddings\n",
    "\n",
    "embeddings = download_hugging_face_embeddings()"
   ]
  },
  {
   "cell_type": "code",
   "execution_count": 9,
   "metadata": {},
   "outputs": [
    {
     "name": "stdout",
     "output_type": "stream",
     "text": [
      "Length 384\n"
     ]
    }
   ],
   "source": [
    "#cheking here embedding hua download huahai ya nhi and checking their dimension\n",
    "query_result = embeddings.embed_query(\"hello world\")\n",
    "print(\"Length\", len(query_result))\n"
   ]
  },
  {
   "cell_type": "code",
   "execution_count": 42,
   "metadata": {},
   "outputs": [],
   "source": [
    "#checking vector\n",
    "#query_result"
   ]
  },
  {
   "cell_type": "code",
   "execution_count": 10,
   "metadata": {},
   "outputs": [
    {
     "data": {
      "text/plain": [
       "True"
      ]
     },
     "execution_count": 10,
     "metadata": {},
     "output_type": "execute_result"
    }
   ],
   "source": [
    "from dotenv import load_dotenv\n",
    "load_dotenv()"
   ]
  },
  {
   "cell_type": "code",
   "execution_count": 11,
   "metadata": {},
   "outputs": [],
   "source": [
    "PINECONE_API_KEY = os.environ.get('PINECONE_API_KEY')\n",
    "HUGGINGFACEHUB_API_TOKEN = os.environ.get('HUGGINGFACEHUB_API_TOKEN')\n",
    "GEMINI_API_KEY = os.environ.get('GEMINI_API_KEY')"
   ]
  },
  {
   "cell_type": "code",
   "execution_count": 15,
   "metadata": {},
   "outputs": [],
   "source": [
    "#initialize pinecone\n",
    "from pinecone import Pinecone, ServerlessSpec\n",
    "\n",
    "pc = Pinecone(api_key=PINECONE_API_KEY)\n",
    "index_name = \"medi-chatbot\"\n",
    "\n",
    "pc.create_index(\n",
    "    name=index_name,\n",
    "    dimension=384, # Replace with your model dimensions\n",
    "    metric=\"cosine\", # Replace with your model metric\n",
    "    spec=ServerlessSpec(\n",
    "        cloud=\"aws\",\n",
    "        region=\"us-east-1\"\n",
    "    ) \n",
    ")\n"
   ]
  },
  {
   "cell_type": "code",
   "execution_count": 16,
   "metadata": {},
   "outputs": [],
   "source": [
    "# Set your Hugging Face API key and pinecone \n",
    "import os\n",
    "os.environ[\"PINECONE_API_KEY\"] = PINECONE_API_KEY\n",
    "os.environ[\"HUGGINGFACEHUB_API_TOKEN\"] = HUGGINGFACEHUB_API_TOKEN \n",
    "os.environ[\"GEMINI_API_KEY\"] = GEMINI_API_KEY"
   ]
  },
  {
   "cell_type": "code",
   "execution_count": 17,
   "metadata": {},
   "outputs": [],
   "source": [
    "# Embed each chunk and upsert the embeddings into your pinecone index.\n",
    "from langchain_pinecone import PineconeVectorStore\n",
    "\n",
    "docsearch = PineconeVectorStore.from_documents(\n",
    "    documents=text_chunks,\n",
    "    index_name=index_name,\n",
    "    embedding=embeddings,\n",
    ")"
   ]
  },
  {
   "cell_type": "code",
   "execution_count": 18,
   "metadata": {},
   "outputs": [],
   "source": [
    "#Load Existing index\n",
    "from langchain_pinecone import PineconeVectorStore\n",
    "\n",
    "docsearch = PineconeVectorStore.from_existing_index(\n",
    "    index_name=index_name,\n",
    "    embedding=embeddings,\n",
    ")"
   ]
  },
  {
   "cell_type": "code",
   "execution_count": 19,
   "metadata": {},
   "outputs": [
    {
     "data": {
      "text/plain": [
       "<langchain_pinecone.vectorstores.PineconeVectorStore at 0x1f5a751bfd0>"
      ]
     },
     "execution_count": 19,
     "metadata": {},
     "output_type": "execute_result"
    }
   ],
   "source": [
    "docsearch"
   ]
  },
  {
   "cell_type": "code",
   "execution_count": 20,
   "metadata": {},
   "outputs": [],
   "source": [
    "retriever = docsearch.as_retriever(search_type=\"similarity\", search_kwargs={\"k\":3})"
   ]
  },
  {
   "cell_type": "code",
   "execution_count": 21,
   "metadata": {},
   "outputs": [],
   "source": [
    "retrieved_docs = retriever.invoke(\"what is fever\")"
   ]
  },
  {
   "cell_type": "code",
   "execution_count": 22,
   "metadata": {},
   "outputs": [
    {
     "data": {
      "text/plain": [
       "[Document(id='0f7ebe5b-7017-48f0-a8ef-125b4bf22906', metadata={'page': 69.0, 'source': 'Data\\\\Medical_book.pdf'}, page_content='fever in children. This disease is most often caused by\\ntypes 3 and 7. Symptoms, which appear suddenly and\\nusually disappear in less than a week, include:\\n• inflammation of the lining of the eyelid (conjunctivitis)\\n•f e v e r\\n• sore throat (pharyngitis)\\n• runny nose\\n• inflammation of lymph glands in the neck (cervical\\nadenitis)\\nGALE ENCYCLOPEDIA OF MEDICINE 256\\nAdenovirus infections\\nGEM - 0001 to 0432 - A  10/22/03 1:41 PM  Page 56'),\n",
       " Document(id='5533c259-039f-49fa-825d-83f2cdba19b6', metadata={'page': 60.0, 'source': 'Data\\\\Medical_book.pdf'}, page_content='(38°–40°C). In addition, a general ill feeling, muscle\\naches,headache, chills, and loss of appetite may be felt.\\nDiagnosis\\nIf lymphangitis is suspected, the person should call\\nhis or her doctor immediately or go to an emergency\\nroom. Acute lymphangitis could be diagnosed by the\\nfamily doctor, infectious disease specialist, or an emer-\\ngency room doctor. The painful, red streaks just below\\nthe skin surface and the high fever are diagnostic of acute'),\n",
       " Document(id='3482823a-d338-4d8c-b8a6-0425ddfc721b', metadata={'page': 618.0, 'source': 'Data\\\\Medical_book.pdf'}, page_content='Description\\nAlso known as undulant fever, Malta fever, Gibraltar\\nfever, Bang’s disease, or Mediterranean fever, brucellosis\\nis most likely to occur among those individuals who reg-\\nularly work with livestock. The disease originated in\\ndomestic livestock but was passed on to wild animal\\nspecies, including the elk and buffalo of the western\\nUnited States. In humans, brucellosis continues to be\\nspread via unpasteurized milk obtained from infected')]"
      ]
     },
     "execution_count": 22,
     "metadata": {},
     "output_type": "execute_result"
    }
   ],
   "source": [
    "retrieved_docs\n",
    "#this dont give the complete answer that's why we need to llm "
   ]
  },
  {
   "cell_type": "code",
   "execution_count": 23,
   "metadata": {},
   "outputs": [
    {
     "name": "stdout",
     "output_type": "stream",
     "text": [
      "Fever, or pyrexia, is a temporary increase in the body's temperature above the normal range, typically considered to be 98.6°F (37°C) orally.  It's not a disease itself but rather a symptom of an underlying condition, often indicating that the body's immune system is fighting off an infection or other illness.  The body's thermostat, located in the hypothalamus region of the brain, is responsible for regulating temperature.  When the body detects a threat, like bacteria or a virus, the hypothalamus raises the set point, leading to a higher body temperature.\n",
      "\n",
      "**Causes of Fever:**\n",
      "\n",
      "Fevers are caused by a wide range of factors, primarily infections but also including other conditions.  These include:\n",
      "\n",
      "* **Infections:** This is the most common cause.  Viral infections (like the flu, common cold, or COVID-19), bacterial infections (like strep throat, pneumonia, or urinary tract infections), and parasitic infections can all trigger a fever.  The body's immune response to these pathogens releases pyrogens, substances that signal the hypothalamus to increase the body's temperature.\n",
      "\n",
      "* **Non-infectious causes:**  While less common, fevers can also result from:\n",
      "    * **Autoimmune diseases:** Conditions like lupus and rheumatoid arthritis can cause inflammation and fever.\n",
      "    * **Certain cancers:** Some cancers can lead to fever as a symptom.\n",
      "    * **Adverse drug reactions:** Some medications can trigger a fever as a side effect.\n",
      "    * **Heatstroke:**  This is a serious condition caused by prolonged exposure to high temperatures, leading to a dangerously high body temperature.  While technically a different mechanism, it still manifests as an elevated body temperature.\n",
      "    * **Blood clots:**  Deep vein thrombosis (DVT) or pulmonary embolism (PE) can sometimes cause a fever.\n",
      "\n",
      "\n",
      "**Symptoms of Fever:**\n",
      "\n",
      "The primary symptom is an elevated body temperature, measurable through various methods like oral, rectal, axillary (armpit), or tympanic (ear) thermometers.  Other symptoms that often accompany a fever include:\n",
      "\n",
      "* **Chills:** Feeling cold despite a rising temperature.\n",
      "* **Sweating:** Excessive sweating, especially as the fever breaks.\n",
      "* **Headache:**  A common symptom, especially with viral infections.\n",
      "* **Muscle aches:**  Also common, particularly with viral illnesses like the flu.\n",
      "* **Fatigue:**  Feeling unusually tired and weak.\n",
      "* **Loss of appetite:** Reduced desire to eat.\n",
      "* **Nausea and vomiting:**  More common with certain infections.\n",
      "\n",
      "\n",
      "**Treatment of Fever:**\n",
      "\n",
      "Treatment focuses on addressing the underlying cause and managing the symptoms.  In many cases, a mild fever will resolve itself without specific treatment, as the body's immune response combats the infection.  However, symptomatic relief is often sought:\n",
      "\n",
      "* **Over-the-counter medications:**  Acetaminophen (Tylenol) and ibuprofen (Advil, Motrin) can help reduce fever and relieve aches and pains.  It's crucial to follow dosage instructions carefully.\n",
      "* **Hydration:**  Drinking plenty of fluids (water, clear broths) is essential to prevent dehydration, which can worsen the symptoms.\n",
      "* **Rest:**  Getting adequate rest allows the body to focus its energy on fighting off the infection.\n",
      "* **Cool compresses:** Applying cool, damp cloths to the forehead can provide some relief from the discomfort of a high fever.\n",
      "* **Sponge bath:** A lukewarm sponge bath can help lower the temperature.  Avoid cold water, as this can cause shivering and potentially raise the temperature.\n",
      "\n",
      "\n",
      "**When to Seek Medical Attention:**\n",
      "\n",
      "While many fevers resolve on their own, it's crucial to seek medical attention if:\n",
      "\n",
      "* The fever is very high (over 103°F or 39.4°C).\n",
      "* The fever lasts for more than three to five days.\n",
      "* The fever is accompanied by severe symptoms like difficulty breathing, stiff neck, rash, confusion, or seizures.\n",
      "* The fever occurs in infants under three months of age.\n",
      "\n",
      "\n",
      "This information is for general knowledge and does not constitute medical advice.  Always consult a healthcare professional for diagnosis and treatment of any medical condition.  This response is complete based on the provided prompt, but further information about specific types of fevers or underlying conditions could lead to a more nuanced and detailed answer.\n",
      "\n"
     ]
    }
   ],
   "source": [
    "import google.generativeai as genai\n",
    "\n",
    "# Configure the Gemini API key\n",
    "genai.configure(api_key=GEMINI_API_KEY)  # Replace with your Gemini API key\n",
    "\n",
    "# System prompt\n",
    "system_prompt = (\n",
    "    \"You are a highly knowledgeable assistant tasked with providing detailed and accurate answers. \"\n",
    "    \"For the given query, please answer in detail, covering all aspects of the topic. \"\n",
    "    \"If the query asks for multiple components (e.g., causes, symptoms, treatments), provide a thorough breakdown for each. \"\n",
    "    \"Be as detailed as possible within the token limit, and ensure that you give examples where applicable. \"\n",
    "    \"Always reference the retrieved context when answering, and if more information is needed, request clarification politely. \"\n",
    "    \"If the information in the context is insufficient, clearly state that and ask for further details.\"\n",
    "    \"\\n\\n{context}\"\n",
    ")\n",
    "\n",
    "# Initialize the Gemini model\n",
    "llm = genai.GenerativeModel(\"gemini-1.5-flash\")\n",
    "\n",
    "# Define a function for generating responses\n",
    "def generate_response(llm, prompt, context, input_text):\n",
    "    # Combine system prompt and input\n",
    "    full_prompt = prompt.format(context=context) + \"\\n\\n\" + input_text\n",
    "    # Generate content without additional arguments\n",
    "    response = llm.generate_content(full_prompt)\n",
    "    return response.text\n",
    "\n",
    "# Simulate retrieval (mock context retrieval)\n",
    "def mock_retriever(query):\n",
    "    return \"Mocked retrieved context for: \" + query\n",
    "\n",
    "# Generate the response\n",
    "retrieved_context = mock_retriever(\"what is fever?\")\n",
    "response_text = generate_response(llm, system_prompt, retrieved_context, \"what is fever?\")\n",
    "print(response_text)\n"
   ]
  },
  {
   "cell_type": "code",
   "execution_count": null,
   "metadata": {},
   "outputs": [],
   "source": []
  }
 ],
 "metadata": {
  "kernelspec": {
   "display_name": "myenv",
   "language": "python",
   "name": "python3"
  },
  "language_info": {
   "codemirror_mode": {
    "name": "ipython",
    "version": 3
   },
   "file_extension": ".py",
   "mimetype": "text/x-python",
   "name": "python",
   "nbconvert_exporter": "python",
   "pygments_lexer": "ipython3",
   "version": "3.10.0"
  }
 },
 "nbformat": 4,
 "nbformat_minor": 2
}
